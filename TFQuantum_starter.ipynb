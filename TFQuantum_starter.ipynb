{
 "cells": [
  {
   "cell_type": "markdown",
   "metadata": {},
   "source": [
    "# Getting started with [TensorFlow Quantum](https://www.tensorflow.org/quantum)\n",
    "\n",
    "In this notebook you will build your first hybrid quantum classical model with \n",
    "[Cirq](https://cirq.readthedocs.io/en/stable/) and TensorFlow Quantum (TFQ). We will build a very simple model to do\n",
    "binary classification in this notebook. You will then use Keras to create a wrapper for the model and simulate it to\n",
    "train and evluate the model."
   ]
  },
  {
   "cell_type": "markdown",
   "metadata": {},
   "source": [
    "> Note: This notebook is designed to be run in Google Colab if you want to run it locally or on a Jupyter notebook you \n",
    "would skip the code cells with the `Colab only` comment."
   ]
  },
  {
   "cell_type": "markdown",
   "metadata": {},
   "source": [
    "## Setup"
   ]
  },
  {
   "cell_type": "markdown",
   "metadata": {},
   "source": [
    "### Install TensorFlow Quantum (Colab only)"
   ]
  },
  {
   "cell_type": "code",
   "execution_count": null,
   "metadata": {},
   "outputs": [],
   "source": [
    "# Colab only\n",
    "pip install -q tensorflow==2.1.0"
   ]
  },
  {
   "cell_type": "code",
   "execution_count": null,
   "metadata": {},
   "outputs": [],
   "source": [
    "# Colab only\n",
    "pip install -q tensorflow-quantum"
   ]
  },
  {
   "cell_type": "markdown",
   "metadata": {},
   "source": [
    "### Imports"
   ]
  },
  {
   "cell_type": "markdown",
   "metadata": {},
   "source": [
    "Now import TensorFlow and the module dependencies:"
   ]
  },
  {
   "cell_type": "code",
   "execution_count": 1,
   "metadata": {},
   "outputs": [],
   "source": [
    "import cirq\n",
    "import random\n",
    "import numpy as np\n",
    "import sympy\n",
    "import tensorflow as tf\n",
    "import tensorflow_quantum as tfq\n",
    "\n",
    "from matplotlib import pyplot as plt\n",
    "from cirq.contrib.svg import SVGCircuit"
   ]
  },
  {
   "cell_type": "markdown",
   "metadata": {},
   "source": [
    "### Place a qubit on the grid\n",
    "\n",
    "You will then place a qubit on thee grid"
   ]
  },
  {
   "cell_type": "code",
   "execution_count": 2,
   "metadata": {},
   "outputs": [],
   "source": [
    "qubit = cirq.GridQubit(0, 0)"
   ]
  },
  {
   "cell_type": "markdown",
   "metadata": {},
   "source": [
    "## Prepare quantum data\n",
    "\n",
    "The first thing you would do is set up the labels and parameters for preparation of the quantum data. For simplicity\n",
    "here we have included just 2 data points `a` and `b`."
   ]
  },
  {
   "cell_type": "code",
   "execution_count": 3,
   "metadata": {},
   "outputs": [],
   "source": [
    "expected_labels = np.array([[1, 0], [0, 1]])"
   ]
  },
  {
   "cell_type": "markdown",
   "metadata": {},
   "source": [
    "Randonly rotate `x` and `z` axis"
   ]
  },
  {
   "cell_type": "code",
   "execution_count": 4,
   "metadata": {},
   "outputs": [],
   "source": [
    "angle = np.random.uniform(0, 2 * np.pi)"
   ]
  },
  {
   "cell_type": "markdown",
   "metadata": {},
   "source": [
    "## Building the quantum Circuit\n",
    "\n",
    "You will now build the quantum circuit and also convert it into a tensor"
   ]
  },
  {
   "cell_type": "code",
   "execution_count": 5,
   "metadata": {},
   "outputs": [],
   "source": [
    "a = cirq.Circuit(cirq.ry(angle)(qubit))\n",
    "b = cirq.Circuit(cirq.ry(angle + np.pi / 2)(qubit))\n",
    "quantum_data = tfq.convert_to_tensor([a, b])"
   ]
  },
  {
   "cell_type": "code",
   "execution_count": 6,
   "metadata": {},
   "outputs": [
    {
     "name": "stderr",
     "output_type": "stream",
     "text": [
      "findfont: Font family ['Arial'] not found. Falling back to DejaVu Sans.\n"
     ]
    },
    {
     "data": {
      "image/svg+xml": [
       "<svg xmlns=\"http://www.w3.org/2000/svg\" width=\"204.7082421875\" height=\"50.0\"><line x1=\"34.7588671875\" x2=\"174.7082421875\" y1=\"25.0\" y2=\"25.0\" stroke=\"#1967d2\" stroke-width=\"1\" /><rect x=\"10.0\" y=\"5.0\" width=\"49.517734375\" height=\"40\" stroke=\"black\" fill=\"white\" stroke-width=\"0\" /><text x=\"34.7588671875\" y=\"25.0\" dominant-baseline=\"middle\" text-anchor=\"middle\" font-size=\"14px\">(0, 0): </text><rect x=\"79.517734375\" y=\"5.0\" width=\"75.1905078125\" height=\"40\" stroke=\"black\" fill=\"white\" stroke-width=\"1\" /><text x=\"117.11298828125001\" y=\"25.0\" dominant-baseline=\"middle\" text-anchor=\"middle\" font-size=\"14px\">Ry(1.41π)</text></svg>"
      ],
      "text/plain": [
       "<cirq.contrib.svg.svg.SVGCircuit at 0x7f29a5935a50>"
      ]
     },
     "execution_count": 6,
     "metadata": {},
     "output_type": "execute_result"
    }
   ],
   "source": [
    "SVGCircuit(a)"
   ]
  },
  {
   "cell_type": "code",
   "execution_count": 15,
   "metadata": {},
   "outputs": [
    {
     "data": {
      "image/svg+xml": [
       "<svg xmlns=\"http://www.w3.org/2000/svg\" width=\"204.7082421875\" height=\"50.0\"><line x1=\"34.7588671875\" x2=\"174.7082421875\" y1=\"25.0\" y2=\"25.0\" stroke=\"#1967d2\" stroke-width=\"1\" /><rect x=\"10.0\" y=\"5.0\" width=\"49.517734375\" height=\"40\" stroke=\"black\" fill=\"white\" stroke-width=\"0\" /><text x=\"34.7588671875\" y=\"25.0\" dominant-baseline=\"middle\" text-anchor=\"middle\" font-size=\"14px\">(0, 0): </text><rect x=\"79.517734375\" y=\"5.0\" width=\"75.1905078125\" height=\"40\" stroke=\"black\" fill=\"white\" stroke-width=\"1\" /><text x=\"117.11298828125001\" y=\"25.0\" dominant-baseline=\"middle\" text-anchor=\"middle\" font-size=\"14px\">Ry(1.41π)</text></svg>"
      ],
      "text/plain": [
       "<cirq.contrib.svg.svg.SVGCircuit at 0x7f2965655e90>"
      ]
     },
     "execution_count": 15,
     "metadata": {},
     "output_type": "execute_result"
    }
   ],
   "source": [
    "SVGCircuit(b)"
   ]
  },
  {
   "cell_type": "markdown",
   "metadata": {},
   "source": [
    "## Building the hybrid model\n",
    "\n",
    "This section also shows the interoperatability between TensorFlow and Cirq. With the TFQ PQC layer you can easily\n",
    "embed your quantum part of the model within a standard classical Keras model."
   ]
  },
  {
   "cell_type": "code",
   "execution_count": 7,
   "metadata": {},
   "outputs": [],
   "source": [
    "q_data_input = tf.keras.Input(shape = (), dtype = tf.dtypes.string)\n",
    "theta = sympy.Symbol(\"theta\")\n",
    "q_model = cirq.Circuit(cirq.ry(theta)(qubit))"
   ]
  },
  {
   "cell_type": "code",
   "execution_count": 8,
   "metadata": {},
   "outputs": [],
   "source": [
    "expectation = tfq.layers.PQC(q_model, cirq.Z(qubit))\n",
    "expectation_output = expectation(q_data_input)"
   ]
  },
  {
   "cell_type": "code",
   "execution_count": 9,
   "metadata": {},
   "outputs": [],
   "source": [
    "classifier = tf.keras.layers.Dense(2, activation = tf.keras.activations.softmax)\n",
    "classifier_output = classifier(expectation_output)"
   ]
  },
  {
   "cell_type": "markdown",
   "metadata": {},
   "source": [
    "You will now define the optimizer and loss functions for your model"
   ]
  },
  {
   "cell_type": "code",
   "execution_count": 10,
   "metadata": {},
   "outputs": [],
   "source": [
    "model = tf.keras.Model(inputs = q_data_input, \n",
    "                       outputs = classifier_output)\n",
    "model.compile(optimizer = tf.keras.optimizers.Adam(learning_rate = 0.1), \n",
    "              loss = tf.keras.losses.CategoricalCrossentropy())"
   ]
  },
  {
   "cell_type": "markdown",
   "metadata": {},
   "source": [
    "## Traaining the model\n",
    "\n",
    "Training the model is just like training any other Keras model and is made easy."
   ]
  },
  {
   "cell_type": "code",
   "execution_count": 11,
   "metadata": {},
   "outputs": [
    {
     "name": "stdout",
     "output_type": "stream",
     "text": [
      "Train on 2 samples\n",
      "Epoch 1/250\n",
      "2/2 [==============================] - 2s 1s/sample - loss: 0.8917\n",
      "Epoch 2/250\n",
      "2/2 [==============================] - 0s 3ms/sample - loss: 0.8091\n",
      "Epoch 3/250\n",
      "2/2 [==============================] - 0s 3ms/sample - loss: 0.7424\n",
      "Epoch 4/250\n",
      "2/2 [==============================] - 0s 3ms/sample - loss: 0.6847\n",
      "Epoch 5/250\n",
      "2/2 [==============================] - 0s 3ms/sample - loss: 0.6361\n",
      "Epoch 6/250\n",
      "2/2 [==============================] - 0s 2ms/sample - loss: 0.5919\n",
      "Epoch 7/250\n",
      "2/2 [==============================] - 0s 3ms/sample - loss: 0.5472\n",
      "Epoch 8/250\n",
      "2/2 [==============================] - 0s 2ms/sample - loss: 0.5011\n",
      "Epoch 9/250\n",
      "2/2 [==============================] - 0s 3ms/sample - loss: 0.4544\n",
      "Epoch 10/250\n",
      "2/2 [==============================] - 0s 2ms/sample - loss: 0.4079\n",
      "Epoch 11/250\n",
      "2/2 [==============================] - 0s 3ms/sample - loss: 0.3624\n",
      "Epoch 12/250\n",
      "2/2 [==============================] - 0s 2ms/sample - loss: 0.3193\n",
      "Epoch 13/250\n",
      "2/2 [==============================] - 0s 5ms/sample - loss: 0.2801\n",
      "Epoch 14/250\n",
      "2/2 [==============================] - 0s 3ms/sample - loss: 0.2455\n",
      "Epoch 15/250\n",
      "2/2 [==============================] - 0s 3ms/sample - loss: 0.2159\n",
      "Epoch 16/250\n",
      "2/2 [==============================] - 0s 3ms/sample - loss: 0.1910\n",
      "Epoch 17/250\n",
      "2/2 [==============================] - 0s 3ms/sample - loss: 0.1699\n",
      "Epoch 18/250\n",
      "2/2 [==============================] - 0s 3ms/sample - loss: 0.1521\n",
      "Epoch 19/250\n",
      "2/2 [==============================] - 0s 2ms/sample - loss: 0.1368\n",
      "Epoch 20/250\n",
      "2/2 [==============================] - 0s 3ms/sample - loss: 0.1236\n",
      "Epoch 21/250\n",
      "2/2 [==============================] - 0s 3ms/sample - loss: 0.1122\n",
      "Epoch 22/250\n",
      "2/2 [==============================] - 0s 2ms/sample - loss: 0.1025\n",
      "Epoch 23/250\n",
      "2/2 [==============================] - 0s 3ms/sample - loss: 0.0942\n",
      "Epoch 24/250\n",
      "2/2 [==============================] - 0s 3ms/sample - loss: 0.0869\n",
      "Epoch 25/250\n",
      "2/2 [==============================] - 0s 3ms/sample - loss: 0.0804\n",
      "Epoch 26/250\n",
      "2/2 [==============================] - 0s 3ms/sample - loss: 0.0746\n",
      "Epoch 27/250\n",
      "2/2 [==============================] - 0s 3ms/sample - loss: 0.0693\n",
      "Epoch 28/250\n",
      "2/2 [==============================] - 0s 2ms/sample - loss: 0.0645\n",
      "Epoch 29/250\n",
      "2/2 [==============================] - 0s 3ms/sample - loss: 0.0601\n",
      "Epoch 30/250\n",
      "2/2 [==============================] - 0s 2ms/sample - loss: 0.0561\n",
      "Epoch 31/250\n",
      "2/2 [==============================] - 0s 2ms/sample - loss: 0.0525\n",
      "Epoch 32/250\n",
      "2/2 [==============================] - 0s 3ms/sample - loss: 0.0492\n",
      "Epoch 33/250\n",
      "2/2 [==============================] - 0s 3ms/sample - loss: 0.0463\n",
      "Epoch 34/250\n",
      "2/2 [==============================] - 0s 4ms/sample - loss: 0.0436\n",
      "Epoch 35/250\n",
      "2/2 [==============================] - 0s 3ms/sample - loss: 0.0411\n",
      "Epoch 36/250\n",
      "2/2 [==============================] - 0s 3ms/sample - loss: 0.0389\n",
      "Epoch 37/250\n",
      "2/2 [==============================] - 0s 3ms/sample - loss: 0.0368\n",
      "Epoch 38/250\n",
      "2/2 [==============================] - 0s 3ms/sample - loss: 0.0349\n",
      "Epoch 39/250\n",
      "2/2 [==============================] - 0s 3ms/sample - loss: 0.0332\n",
      "Epoch 40/250\n",
      "2/2 [==============================] - 0s 4ms/sample - loss: 0.0317\n",
      "Epoch 41/250\n",
      "2/2 [==============================] - 0s 4ms/sample - loss: 0.0303\n",
      "Epoch 42/250\n",
      "2/2 [==============================] - 0s 3ms/sample - loss: 0.0290\n",
      "Epoch 43/250\n",
      "2/2 [==============================] - 0s 3ms/sample - loss: 0.0278\n",
      "Epoch 44/250\n",
      "2/2 [==============================] - 0s 3ms/sample - loss: 0.0268\n",
      "Epoch 45/250\n",
      "2/2 [==============================] - 0s 3ms/sample - loss: 0.0258\n",
      "Epoch 46/250\n",
      "2/2 [==============================] - 0s 3ms/sample - loss: 0.0248\n",
      "Epoch 47/250\n",
      "2/2 [==============================] - 0s 2ms/sample - loss: 0.0240\n",
      "Epoch 48/250\n",
      "2/2 [==============================] - 0s 3ms/sample - loss: 0.0232\n",
      "Epoch 49/250\n",
      "2/2 [==============================] - 0s 4ms/sample - loss: 0.0224\n",
      "Epoch 50/250\n",
      "2/2 [==============================] - 0s 3ms/sample - loss: 0.0218\n",
      "Epoch 51/250\n",
      "2/2 [==============================] - 0s 2ms/sample - loss: 0.0211\n",
      "Epoch 52/250\n",
      "2/2 [==============================] - 0s 3ms/sample - loss: 0.0205\n",
      "Epoch 53/250\n",
      "2/2 [==============================] - 0s 3ms/sample - loss: 0.0200\n",
      "Epoch 54/250\n",
      "2/2 [==============================] - 0s 3ms/sample - loss: 0.0195\n",
      "Epoch 55/250\n",
      "2/2 [==============================] - 0s 4ms/sample - loss: 0.0190\n",
      "Epoch 56/250\n",
      "2/2 [==============================] - 0s 4ms/sample - loss: 0.0185\n",
      "Epoch 57/250\n",
      "2/2 [==============================] - 0s 2ms/sample - loss: 0.0181\n",
      "Epoch 58/250\n",
      "2/2 [==============================] - 0s 2ms/sample - loss: 0.0177\n",
      "Epoch 59/250\n",
      "2/2 [==============================] - 0s 2ms/sample - loss: 0.0173\n",
      "Epoch 60/250\n",
      "2/2 [==============================] - 0s 2ms/sample - loss: 0.0169\n",
      "Epoch 61/250\n",
      "2/2 [==============================] - 0s 2ms/sample - loss: 0.0166\n",
      "Epoch 62/250\n",
      "2/2 [==============================] - 0s 2ms/sample - loss: 0.0163\n",
      "Epoch 63/250\n",
      "2/2 [==============================] - 0s 3ms/sample - loss: 0.0159\n",
      "Epoch 64/250\n",
      "2/2 [==============================] - 0s 3ms/sample - loss: 0.0156\n",
      "Epoch 65/250\n",
      "2/2 [==============================] - 0s 3ms/sample - loss: 0.0154\n",
      "Epoch 66/250\n",
      "2/2 [==============================] - 0s 3ms/sample - loss: 0.0151\n",
      "Epoch 67/250\n",
      "2/2 [==============================] - 0s 3ms/sample - loss: 0.0148\n",
      "Epoch 68/250\n",
      "2/2 [==============================] - 0s 2ms/sample - loss: 0.0146\n",
      "Epoch 69/250\n",
      "2/2 [==============================] - 0s 3ms/sample - loss: 0.0143\n",
      "Epoch 70/250\n",
      "2/2 [==============================] - 0s 3ms/sample - loss: 0.0141\n",
      "Epoch 71/250\n",
      "2/2 [==============================] - 0s 2ms/sample - loss: 0.0139\n",
      "Epoch 72/250\n",
      "2/2 [==============================] - 0s 3ms/sample - loss: 0.0136\n",
      "Epoch 73/250\n",
      "2/2 [==============================] - 0s 3ms/sample - loss: 0.0134\n",
      "Epoch 74/250\n",
      "2/2 [==============================] - 0s 2ms/sample - loss: 0.0132\n",
      "Epoch 75/250\n",
      "2/2 [==============================] - 0s 3ms/sample - loss: 0.0130\n",
      "Epoch 76/250\n",
      "2/2 [==============================] - 0s 3ms/sample - loss: 0.0128\n",
      "Epoch 77/250\n",
      "2/2 [==============================] - 0s 3ms/sample - loss: 0.0126\n",
      "Epoch 78/250\n",
      "2/2 [==============================] - 0s 2ms/sample - loss: 0.0125\n",
      "Epoch 79/250\n",
      "2/2 [==============================] - 0s 3ms/sample - loss: 0.0123\n",
      "Epoch 80/250\n",
      "2/2 [==============================] - 0s 3ms/sample - loss: 0.0121\n",
      "Epoch 81/250\n",
      "2/2 [==============================] - 0s 3ms/sample - loss: 0.0120\n",
      "Epoch 82/250\n",
      "2/2 [==============================] - 0s 3ms/sample - loss: 0.0118\n",
      "Epoch 83/250\n",
      "2/2 [==============================] - 0s 3ms/sample - loss: 0.0116\n",
      "Epoch 84/250\n",
      "2/2 [==============================] - 0s 4ms/sample - loss: 0.0115\n",
      "Epoch 85/250\n",
      "2/2 [==============================] - 0s 3ms/sample - loss: 0.0113\n",
      "Epoch 86/250\n",
      "2/2 [==============================] - 0s 3ms/sample - loss: 0.0112\n",
      "Epoch 87/250\n",
      "2/2 [==============================] - 0s 3ms/sample - loss: 0.0110\n",
      "Epoch 88/250\n",
      "2/2 [==============================] - 0s 3ms/sample - loss: 0.0109\n",
      "Epoch 89/250\n",
      "2/2 [==============================] - 0s 5ms/sample - loss: 0.0108\n",
      "Epoch 90/250\n",
      "2/2 [==============================] - 0s 3ms/sample - loss: 0.0106\n",
      "Epoch 91/250\n",
      "2/2 [==============================] - 0s 3ms/sample - loss: 0.0105\n",
      "Epoch 92/250\n",
      "2/2 [==============================] - 0s 3ms/sample - loss: 0.0104\n",
      "Epoch 93/250\n",
      "2/2 [==============================] - 0s 3ms/sample - loss: 0.0103\n",
      "Epoch 94/250\n",
      "2/2 [==============================] - 0s 3ms/sample - loss: 0.0101\n",
      "Epoch 95/250\n",
      "2/2 [==============================] - 0s 3ms/sample - loss: 0.0100\n",
      "Epoch 96/250\n",
      "2/2 [==============================] - 0s 2ms/sample - loss: 0.0099\n",
      "Epoch 97/250\n",
      "2/2 [==============================] - 0s 3ms/sample - loss: 0.0098\n",
      "Epoch 98/250\n",
      "2/2 [==============================] - 0s 4ms/sample - loss: 0.0097\n",
      "Epoch 99/250\n",
      "2/2 [==============================] - 0s 3ms/sample - loss: 0.0096\n",
      "Epoch 100/250\n",
      "2/2 [==============================] - 0s 3ms/sample - loss: 0.0095\n",
      "Epoch 101/250\n",
      "2/2 [==============================] - 0s 3ms/sample - loss: 0.0094\n",
      "Epoch 102/250\n",
      "2/2 [==============================] - 0s 3ms/sample - loss: 0.0092\n",
      "Epoch 103/250\n",
      "2/2 [==============================] - 0s 3ms/sample - loss: 0.0091\n",
      "Epoch 104/250\n",
      "2/2 [==============================] - 0s 3ms/sample - loss: 0.0090\n",
      "Epoch 105/250\n",
      "2/2 [==============================] - 0s 3ms/sample - loss: 0.0089\n",
      "Epoch 106/250\n",
      "2/2 [==============================] - 0s 3ms/sample - loss: 0.0089\n",
      "Epoch 107/250\n",
      "2/2 [==============================] - 0s 3ms/sample - loss: 0.0088\n",
      "Epoch 108/250\n",
      "2/2 [==============================] - 0s 3ms/sample - loss: 0.0087\n",
      "Epoch 109/250\n",
      "2/2 [==============================] - 0s 3ms/sample - loss: 0.0086\n",
      "Epoch 110/250\n",
      "2/2 [==============================] - 0s 2ms/sample - loss: 0.0085\n",
      "Epoch 111/250\n",
      "2/2 [==============================] - 0s 3ms/sample - loss: 0.0084\n",
      "Epoch 112/250\n",
      "2/2 [==============================] - 0s 4ms/sample - loss: 0.0083\n",
      "Epoch 113/250\n",
      "2/2 [==============================] - 0s 3ms/sample - loss: 0.0082\n",
      "Epoch 114/250\n",
      "2/2 [==============================] - 0s 3ms/sample - loss: 0.0081\n",
      "Epoch 115/250\n",
      "2/2 [==============================] - 0s 2ms/sample - loss: 0.0081\n",
      "Epoch 116/250\n",
      "2/2 [==============================] - 0s 3ms/sample - loss: 0.0080\n",
      "Epoch 117/250\n",
      "2/2 [==============================] - 0s 3ms/sample - loss: 0.0079\n",
      "Epoch 118/250\n",
      "2/2 [==============================] - 0s 3ms/sample - loss: 0.0078\n",
      "Epoch 119/250\n",
      "2/2 [==============================] - 0s 3ms/sample - loss: 0.0077\n",
      "Epoch 120/250\n",
      "2/2 [==============================] - 0s 2ms/sample - loss: 0.0077\n",
      "Epoch 121/250\n",
      "2/2 [==============================] - 0s 3ms/sample - loss: 0.0076\n",
      "Epoch 122/250\n",
      "2/2 [==============================] - 0s 4ms/sample - loss: 0.0075\n",
      "Epoch 123/250\n",
      "2/2 [==============================] - 0s 4ms/sample - loss: 0.0074\n",
      "Epoch 124/250\n",
      "2/2 [==============================] - 0s 3ms/sample - loss: 0.0074\n",
      "Epoch 125/250\n",
      "2/2 [==============================] - 0s 3ms/sample - loss: 0.0073\n",
      "Epoch 126/250\n",
      "2/2 [==============================] - 0s 2ms/sample - loss: 0.0072\n",
      "Epoch 127/250\n",
      "2/2 [==============================] - 0s 2ms/sample - loss: 0.0072\n",
      "Epoch 128/250\n",
      "2/2 [==============================] - 0s 3ms/sample - loss: 0.0071\n",
      "Epoch 129/250\n",
      "2/2 [==============================] - 0s 3ms/sample - loss: 0.0070\n",
      "Epoch 130/250\n",
      "2/2 [==============================] - 0s 3ms/sample - loss: 0.0070\n",
      "Epoch 131/250\n",
      "2/2 [==============================] - 0s 3ms/sample - loss: 0.0069\n",
      "Epoch 132/250\n",
      "2/2 [==============================] - 0s 3ms/sample - loss: 0.0068\n",
      "Epoch 133/250\n",
      "2/2 [==============================] - 0s 4ms/sample - loss: 0.0068\n",
      "Epoch 134/250\n",
      "2/2 [==============================] - 0s 3ms/sample - loss: 0.0067\n",
      "Epoch 135/250\n",
      "2/2 [==============================] - 0s 5ms/sample - loss: 0.0067\n",
      "Epoch 136/250\n",
      "2/2 [==============================] - 0s 2ms/sample - loss: 0.0066\n",
      "Epoch 137/250\n",
      "2/2 [==============================] - 0s 3ms/sample - loss: 0.0065\n",
      "Epoch 138/250\n",
      "2/2 [==============================] - 0s 3ms/sample - loss: 0.0065\n",
      "Epoch 139/250\n",
      "2/2 [==============================] - 0s 3ms/sample - loss: 0.0064\n",
      "Epoch 140/250\n",
      "2/2 [==============================] - 0s 3ms/sample - loss: 0.0064\n",
      "Epoch 141/250\n",
      "2/2 [==============================] - 0s 3ms/sample - loss: 0.0063\n",
      "Epoch 142/250\n",
      "2/2 [==============================] - 0s 3ms/sample - loss: 0.0063\n",
      "Epoch 143/250\n",
      "2/2 [==============================] - 0s 2ms/sample - loss: 0.0062\n",
      "Epoch 144/250\n",
      "2/2 [==============================] - 0s 3ms/sample - loss: 0.0062\n",
      "Epoch 145/250\n",
      "2/2 [==============================] - 0s 3ms/sample - loss: 0.0061\n",
      "Epoch 146/250\n",
      "2/2 [==============================] - 0s 3ms/sample - loss: 0.0061\n",
      "Epoch 147/250\n",
      "2/2 [==============================] - 0s 3ms/sample - loss: 0.0060\n",
      "Epoch 148/250\n",
      "2/2 [==============================] - 0s 3ms/sample - loss: 0.0060\n",
      "Epoch 149/250\n",
      "2/2 [==============================] - 0s 4ms/sample - loss: 0.0059\n",
      "Epoch 150/250\n",
      "2/2 [==============================] - 0s 3ms/sample - loss: 0.0059\n",
      "Epoch 151/250\n",
      "2/2 [==============================] - 0s 5ms/sample - loss: 0.0058\n",
      "Epoch 152/250\n",
      "2/2 [==============================] - 0s 3ms/sample - loss: 0.0058\n",
      "Epoch 153/250\n",
      "2/2 [==============================] - 0s 4ms/sample - loss: 0.0057\n",
      "Epoch 154/250\n",
      "2/2 [==============================] - 0s 3ms/sample - loss: 0.0057\n",
      "Epoch 155/250\n",
      "2/2 [==============================] - 0s 4ms/sample - loss: 0.0056\n",
      "Epoch 156/250\n",
      "2/2 [==============================] - 0s 3ms/sample - loss: 0.0056\n",
      "Epoch 157/250\n",
      "2/2 [==============================] - 0s 3ms/sample - loss: 0.0055\n",
      "Epoch 158/250\n",
      "2/2 [==============================] - 0s 3ms/sample - loss: 0.0055\n",
      "Epoch 159/250\n",
      "2/2 [==============================] - 0s 3ms/sample - loss: 0.0054\n",
      "Epoch 160/250\n",
      "2/2 [==============================] - 0s 3ms/sample - loss: 0.0054\n",
      "Epoch 161/250\n",
      "2/2 [==============================] - 0s 3ms/sample - loss: 0.0054\n",
      "Epoch 162/250\n",
      "2/2 [==============================] - 0s 3ms/sample - loss: 0.0053\n",
      "Epoch 163/250\n",
      "2/2 [==============================] - 0s 3ms/sample - loss: 0.0053\n",
      "Epoch 164/250\n",
      "2/2 [==============================] - 0s 3ms/sample - loss: 0.0052\n",
      "Epoch 165/250\n",
      "2/2 [==============================] - 0s 2ms/sample - loss: 0.0052\n",
      "Epoch 166/250\n",
      "2/2 [==============================] - 0s 3ms/sample - loss: 0.0052\n",
      "Epoch 167/250\n",
      "2/2 [==============================] - 0s 3ms/sample - loss: 0.0051\n",
      "Epoch 168/250\n",
      "2/2 [==============================] - 0s 3ms/sample - loss: 0.0051\n",
      "Epoch 169/250\n",
      "2/2 [==============================] - 0s 4ms/sample - loss: 0.0050\n",
      "Epoch 170/250\n",
      "2/2 [==============================] - 0s 3ms/sample - loss: 0.0050\n",
      "Epoch 171/250\n",
      "2/2 [==============================] - 0s 3ms/sample - loss: 0.0050\n",
      "Epoch 172/250\n",
      "2/2 [==============================] - 0s 3ms/sample - loss: 0.0049\n",
      "Epoch 173/250\n",
      "2/2 [==============================] - 0s 3ms/sample - loss: 0.0049\n",
      "Epoch 174/250\n",
      "2/2 [==============================] - 0s 4ms/sample - loss: 0.0049\n",
      "Epoch 175/250\n",
      "2/2 [==============================] - 0s 3ms/sample - loss: 0.0048\n",
      "Epoch 176/250\n",
      "2/2 [==============================] - 0s 3ms/sample - loss: 0.0048\n",
      "Epoch 177/250\n",
      "2/2 [==============================] - 0s 3ms/sample - loss: 0.0047\n",
      "Epoch 178/250\n",
      "2/2 [==============================] - 0s 3ms/sample - loss: 0.0047\n",
      "Epoch 179/250\n",
      "2/2 [==============================] - 0s 3ms/sample - loss: 0.0047\n",
      "Epoch 180/250\n",
      "2/2 [==============================] - 0s 3ms/sample - loss: 0.0046\n",
      "Epoch 181/250\n",
      "2/2 [==============================] - 0s 2ms/sample - loss: 0.0046\n",
      "Epoch 182/250\n",
      "2/2 [==============================] - 0s 3ms/sample - loss: 0.0046\n",
      "Epoch 183/250\n",
      "2/2 [==============================] - 0s 3ms/sample - loss: 0.0045\n",
      "Epoch 184/250\n",
      "2/2 [==============================] - 0s 3ms/sample - loss: 0.0045\n",
      "Epoch 185/250\n",
      "2/2 [==============================] - 0s 3ms/sample - loss: 0.0045\n",
      "Epoch 186/250\n",
      "2/2 [==============================] - 0s 4ms/sample - loss: 0.0045\n",
      "Epoch 187/250\n",
      "2/2 [==============================] - 0s 3ms/sample - loss: 0.0044\n",
      "Epoch 188/250\n",
      "2/2 [==============================] - 0s 3ms/sample - loss: 0.0044\n",
      "Epoch 189/250\n",
      "2/2 [==============================] - 0s 3ms/sample - loss: 0.0044\n",
      "Epoch 190/250\n",
      "2/2 [==============================] - 0s 3ms/sample - loss: 0.0043\n",
      "Epoch 191/250\n",
      "2/2 [==============================] - 0s 3ms/sample - loss: 0.0043\n",
      "Epoch 192/250\n",
      "2/2 [==============================] - 0s 3ms/sample - loss: 0.0043\n",
      "Epoch 193/250\n",
      "2/2 [==============================] - 0s 3ms/sample - loss: 0.0042\n",
      "Epoch 194/250\n",
      "2/2 [==============================] - 0s 3ms/sample - loss: 0.0042\n",
      "Epoch 195/250\n",
      "2/2 [==============================] - 0s 3ms/sample - loss: 0.0042\n",
      "Epoch 196/250\n",
      "2/2 [==============================] - 0s 3ms/sample - loss: 0.0042\n",
      "Epoch 197/250\n",
      "2/2 [==============================] - 0s 4ms/sample - loss: 0.0041\n",
      "Epoch 198/250\n",
      "2/2 [==============================] - 0s 3ms/sample - loss: 0.0041\n",
      "Epoch 199/250\n",
      "2/2 [==============================] - 0s 4ms/sample - loss: 0.0041\n",
      "Epoch 200/250\n",
      "2/2 [==============================] - 0s 3ms/sample - loss: 0.0041\n",
      "Epoch 201/250\n",
      "2/2 [==============================] - 0s 3ms/sample - loss: 0.0040\n",
      "Epoch 202/250\n",
      "2/2 [==============================] - 0s 3ms/sample - loss: 0.0040\n",
      "Epoch 203/250\n",
      "2/2 [==============================] - 0s 3ms/sample - loss: 0.0040\n",
      "Epoch 204/250\n",
      "2/2 [==============================] - 0s 3ms/sample - loss: 0.0039\n",
      "Epoch 205/250\n",
      "2/2 [==============================] - 0s 2ms/sample - loss: 0.0039\n",
      "Epoch 206/250\n",
      "2/2 [==============================] - 0s 2ms/sample - loss: 0.0039\n",
      "Epoch 207/250\n",
      "2/2 [==============================] - 0s 3ms/sample - loss: 0.0039\n",
      "Epoch 208/250\n",
      "2/2 [==============================] - 0s 3ms/sample - loss: 0.0038\n",
      "Epoch 209/250\n",
      "2/2 [==============================] - 0s 3ms/sample - loss: 0.0038\n",
      "Epoch 210/250\n",
      "2/2 [==============================] - 0s 3ms/sample - loss: 0.0038\n",
      "Epoch 211/250\n",
      "2/2 [==============================] - 0s 3ms/sample - loss: 0.0038\n",
      "Epoch 212/250\n",
      "2/2 [==============================] - 0s 3ms/sample - loss: 0.0038\n",
      "Epoch 213/250\n",
      "2/2 [==============================] - 0s 2ms/sample - loss: 0.0037\n",
      "Epoch 214/250\n",
      "2/2 [==============================] - 0s 4ms/sample - loss: 0.0037\n",
      "Epoch 215/250\n",
      "2/2 [==============================] - 0s 3ms/sample - loss: 0.0037\n",
      "Epoch 216/250\n",
      "2/2 [==============================] - 0s 3ms/sample - loss: 0.0037\n",
      "Epoch 217/250\n",
      "2/2 [==============================] - 0s 3ms/sample - loss: 0.0036\n",
      "Epoch 218/250\n",
      "2/2 [==============================] - 0s 4ms/sample - loss: 0.0036\n",
      "Epoch 219/250\n",
      "2/2 [==============================] - 0s 3ms/sample - loss: 0.0036\n",
      "Epoch 220/250\n",
      "2/2 [==============================] - 0s 4ms/sample - loss: 0.0036\n",
      "Epoch 221/250\n",
      "2/2 [==============================] - 0s 3ms/sample - loss: 0.0035\n",
      "Epoch 222/250\n",
      "2/2 [==============================] - 0s 2ms/sample - loss: 0.0035\n",
      "Epoch 223/250\n",
      "2/2 [==============================] - 0s 3ms/sample - loss: 0.0035\n",
      "Epoch 224/250\n",
      "2/2 [==============================] - 0s 2ms/sample - loss: 0.0035\n",
      "Epoch 225/250\n",
      "2/2 [==============================] - 0s 3ms/sample - loss: 0.0035\n",
      "Epoch 226/250\n",
      "2/2 [==============================] - 0s 3ms/sample - loss: 0.0034\n",
      "Epoch 227/250\n",
      "2/2 [==============================] - 0s 3ms/sample - loss: 0.0034\n",
      "Epoch 228/250\n",
      "2/2 [==============================] - 0s 3ms/sample - loss: 0.0034\n",
      "Epoch 229/250\n",
      "2/2 [==============================] - 0s 3ms/sample - loss: 0.0034\n",
      "Epoch 230/250\n",
      "2/2 [==============================] - 0s 3ms/sample - loss: 0.0034\n",
      "Epoch 231/250\n",
      "2/2 [==============================] - 0s 2ms/sample - loss: 0.0033\n",
      "Epoch 232/250\n",
      "2/2 [==============================] - 0s 3ms/sample - loss: 0.0033\n",
      "Epoch 233/250\n",
      "2/2 [==============================] - 0s 4ms/sample - loss: 0.0033\n",
      "Epoch 234/250\n",
      "2/2 [==============================] - 0s 3ms/sample - loss: 0.0033\n",
      "Epoch 235/250\n",
      "2/2 [==============================] - 0s 4ms/sample - loss: 0.0033\n",
      "Epoch 236/250\n",
      "2/2 [==============================] - 0s 3ms/sample - loss: 0.0032\n",
      "Epoch 237/250\n",
      "2/2 [==============================] - 0s 3ms/sample - loss: 0.0032\n",
      "Epoch 238/250\n",
      "2/2 [==============================] - 0s 3ms/sample - loss: 0.0032\n",
      "Epoch 239/250\n",
      "2/2 [==============================] - 0s 3ms/sample - loss: 0.0032\n",
      "Epoch 240/250\n",
      "2/2 [==============================] - 0s 3ms/sample - loss: 0.0032\n",
      "Epoch 241/250\n",
      "2/2 [==============================] - 0s 3ms/sample - loss: 0.0032\n",
      "Epoch 242/250\n",
      "2/2 [==============================] - 0s 3ms/sample - loss: 0.0031\n",
      "Epoch 243/250\n",
      "2/2 [==============================] - 0s 2ms/sample - loss: 0.0031\n",
      "Epoch 244/250\n",
      "2/2 [==============================] - 0s 3ms/sample - loss: 0.0031\n",
      "Epoch 245/250\n",
      "2/2 [==============================] - 0s 3ms/sample - loss: 0.0031\n",
      "Epoch 246/250\n",
      "2/2 [==============================] - 0s 3ms/sample - loss: 0.0031\n",
      "Epoch 247/250\n",
      "2/2 [==============================] - 0s 2ms/sample - loss: 0.0031\n",
      "Epoch 248/250\n",
      "2/2 [==============================] - 0s 3ms/sample - loss: 0.0030\n",
      "Epoch 249/250\n",
      "2/2 [==============================] - 0s 3ms/sample - loss: 0.0030\n",
      "Epoch 250/250\n",
      "2/2 [==============================] - 0s 3ms/sample - loss: 0.0030\n"
     ]
    }
   ],
   "source": [
    "history = model.fit(x = quantum_data, \n",
    "                    y = expected_labels, \n",
    "                    epochs = 250)"
   ]
  },
  {
   "cell_type": "markdown",
   "metadata": {},
   "source": [
    "## Evaluating the model"
   ]
  },
  {
   "cell_type": "code",
   "execution_count": 12,
   "metadata": {},
   "outputs": [
    {
     "data": {
      "image/png": "[encoded data removed]",
      "text/plain": [
       "<Figure size 432x288 with 1 Axes>"
      ]
     },
     "metadata": {
      "needs_background": "light"
     },
     "output_type": "display_data"
    }
   ],
   "source": [
    "plt.plot(history.history['loss'])\n",
    "plt.title('model loss')\n",
    "plt.ylabel('accuracy')\n",
    "plt.xlabel('epoch')\n",
    "plt.legend(['train'], loc='upper left')\n",
    "plt.show()"
   ]
  },
  {
   "cell_type": "markdown",
   "metadata": {},
   "source": [
    "## Performing inference"
   ]
  },
  {
   "cell_type": "code",
   "execution_count": 13,
   "metadata": {},
   "outputs": [],
   "source": [
    "noise = np.random.uniform(-0.25, 0.25, 2)\n",
    "test_data = tfq.convert_to_tensor([\n",
    "    cirq.Circuit(cirq.ry(noise[0])(qubit)),\n",
    "    cirq.Circuit(cirq.ry(np.pi/2)(qubit)),    \n",
    "])"
   ]
  },
  {
   "cell_type": "markdown",
   "metadata": {},
   "source": [
    "You can see in the below cell that our model does a good job with this data though it was very easy."
   ]
  },
  {
   "cell_type": "code",
   "execution_count": 14,
   "metadata": {},
   "outputs": [
    {
     "data": {
      "text/plain": [
       "array([[5.136258e-02, 9.486374e-01],\n",
       "       [9.992995e-01, 7.004250e-04]], dtype=float32)"
      ]
     },
     "execution_count": 14,
     "metadata": {},
     "output_type": "execute_result"
    }
   ],
   "source": [
    "predictions = model.predict(test_data)\n",
    "predictions"
   ]
  }
 ],
 "metadata": {
  "environment": {
   "name": "tf2-gpu.2-1.m47",
   "type": "gcloud",
   "uri": "gcr.io/deeplearning-platform-release/tf2-gpu.2-1:m47"
  },
  "kernelspec": {
   "display_name": "Python 3",
   "language": "python",
   "name": "python3"
  },
  "language_info": {
   "codemirror_mode": {
    "name": "ipython",
    "version": 3
   },
   "file_extension": ".py",
   "mimetype": "text/x-python",
   "name": "python",
   "nbconvert_exporter": "python",
   "pygments_lexer": "ipython3",
   "version": "3.7.6"
  }
 },
 "nbformat": 4,
 "nbformat_minor": 4
}
